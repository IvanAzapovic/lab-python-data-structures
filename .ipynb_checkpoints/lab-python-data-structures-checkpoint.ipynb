{
 "cells": [
  {
   "cell_type": "markdown",
   "id": "f01ac712-b22f-4479-a576-ac2aa1304d76",
   "metadata": {},
   "source": [
    "As part of a business venture, you are starting an online store that sells various products. To ensure smooth operations, you need to develop a program that manages customer orders and inventory.\n",
    "\n",
    "Follow the steps below to complete the exercise:\n",
    "\n",
    "1. Define a list called `products` that contains the following items: \"t-shirt\", \"mug\", \"hat\", \"book\", \"keychain\".\n",
    "\n",
    "2. Create an empty dictionary called `inventory`.\n",
    "\n",
    "3. Ask the user to input the quantity of each product available in the inventory. Use the product names from the `products` list as keys in the `inventory` dictionary and assign the respective quantities as values.\n",
    "\n",
    "4. Create an empty set called `customer_orders`.\n",
    "\n",
    "5. Ask the user to input the name of three products that a customer wants to order (from those in the products list, meaning three products out of \"t-shirt\", \"mug\", \"hat\", \"book\" or \"keychain\". Add each product name to the `customer_orders` set.\n",
    "\n",
    "6. Print the products in the `customer_orders` set.\n",
    "\n",
    "7. Calculate the following order statistics:\n",
    "   - Total Products Ordered: The total number of products in the `customer_orders` set.\n",
    "   - Percentage of Products Ordered: The percentage of products ordered compared to the total available products.\n",
    "   \n",
    "   Store these statistics in a tuple called `order_status`.\n",
    "\n",
    "8. Print the order statistics using the following format:\n",
    "   ```\n",
    "   Order Statistics:\n",
    "   Total Products Ordered: <total_products_ordered>\n",
    "   Percentage of Products Ordered: <percentage_ordered>% \n",
    "   ```\n",
    "\n",
    "9. Update the inventory by subtracting 1 from the quantity of each product. Modify the `inventory` dictionary accordingly.\n",
    "\n",
    "10. Print the updated inventory, displaying the quantity of each product on separate lines."
   ]
  },
  {
   "cell_type": "code",
   "execution_count": 3,
   "id": "6785651d-743b-4ec2-b882-4dd3c02b0e06",
   "metadata": {},
   "outputs": [
    {
     "name": "stdin",
     "output_type": "stream",
     "text": [
      "Please enter the quantity of the t-shirt: 10\n",
      "Please enter the quantity of the mug: 15\n",
      "Please enter the quantity of the hat: 18\n",
      "Please enter the quantity of the book: 7\n",
      "Please enter the quantity of the keychain: 4\n",
      "Input the name of three products from products list: t-shirt, mug, hat, book or keychain     mug\n",
      "Input the name of three products from products list: t-shirt, mug, hat, book or keychain keychain\n",
      "Input the name of three products from products list: t-shirt, mug, hat, book or keychain socks\n"
     ]
    },
    {
     "name": "stdout",
     "output_type": "stream",
     "text": [
      "wrong input, try again\n"
     ]
    },
    {
     "name": "stdin",
     "output_type": "stream",
     "text": [
      "Input the name of three products from products list: t-shirt, mug, hat, book or keychain hat\n"
     ]
    },
    {
     "name": "stdout",
     "output_type": "stream",
     "text": [
      "customer order: {'keychain', 'hat', 'mug'}\n",
      "Order Statistics:\n",
      "\n",
      "Total Products Ordered: 3\n",
      "Percentage of Products Ordered: 5.555555555555555\n",
      "\n",
      "Updated inventory:\n",
      "t-shirt = 10\n",
      "mug = 14\n",
      "hat = 17\n",
      "book = 7\n",
      "keychain = 3\n"
     ]
    }
   ],
   "source": [
    "# 1. Define a list called `products` that contains the following items: \"t-shirt\", \"mug\", \"hat\", \"book\", \"keychain\".\n",
    "\n",
    "products= [\"t-shirt\", \"mug\", \"hat\", \"book\", \"keychain\"]\n",
    "\n",
    "# 2. Create an empty dictionary called `inventory`.\n",
    "\n",
    "inventory={}\n",
    "\n",
    "# 3. Ask the user to input the quantity of each product available in the inventory. \n",
    "# Use the product names from the `products` list as keys in the `inventory` dictionary and assign the respective quantities as values.\n",
    "\n",
    "for product in products:\n",
    "    quantity=input(f\"Please enter the quantity of the {product}:\")\n",
    "    inventory[product]=int(quantity)\n",
    "# 4. Create an empty set called `customer_orders`.\n",
    "\n",
    "customer_orders=set()\n",
    "\n",
    "# 5. Ask the user to input the name of three products that a customer wants to order \n",
    "# (from those in the products list, meaning three products out of \"t-shirt\", \"mug\", \"hat\", \"book\" or \"keychain\". \n",
    "# Add each product name to the `customer_orders` set.\n",
    "\n",
    "for product in range(1,4):\n",
    "    order=input(\"Input the name of three products from products list: t-shirt, mug, hat, book or keychain\").strip()\n",
    "    if order==\"t-shirt\" or order==\"mug\" or order==\"hat\" or order==\"book\" or order==\"keychain\":\n",
    "        customer_orders.add(order)\n",
    "    else:\n",
    "        print(\"wrong input, try again\")\n",
    "        order=input(\"Input the name of three products from products list: t-shirt, mug, hat, book or keychain\").strip()\n",
    "        customer_orders.add(order)\n",
    "\n",
    "# 6. Print the products in the `customer_orders` set.\n",
    "\n",
    "print(f\"customer order: {customer_orders}\")    \n",
    "    \n",
    "# 7. Calculate the following order statistics:\n",
    "   # Total Products Ordered: The total number of products in the `customer_orders` set.\n",
    "   # Percentage of Products Ordered: The percentage of products ordered compared to the total available products.\n",
    "   \n",
    "   # Store these statistics in a tuple called `order_status`.\n",
    "\n",
    "total_products_ordered=len(customer_orders)\n",
    "percentage_ordered=len(customer_orders)/sum(inventory.values())*100\n",
    "order_status=(total_products_ordered,percentage_ordered)\n",
    "\n",
    "# 8. Print the order statistics using the following format:\n",
    "    \n",
    "   # Order Statistics:\n",
    "   # Total Products Ordered: <total_products_ordered>\n",
    "   # Percentage of Products Ordered: <percentage_ordered>% \n",
    "print(\"Order Statistics:\")\n",
    "print()\n",
    "print(f\"Total Products Ordered: {total_products_ordered}\")\n",
    "print(f\"Percentage of Products Ordered: {percentage_ordered}\")\n",
    "\n",
    "# 9. Update the inventory by subtracting 1 from the quantity of each product. Modify the `inventory` dictionary accordingly.\n",
    "print()\n",
    "for value in customer_orders:\n",
    "    inventory[value]-=1\n",
    "\n",
    "# 10. Print the updated inventory, displaying the quantity of each product on separate lines.\n",
    "print(\"Updated inventory:\")\n",
    "for product, value in inventory.items():\n",
    "    print(f\"{product} = {value}\")\n",
    "    \n"
   ]
  },
  {
   "cell_type": "code",
   "execution_count": null,
   "id": "95e89193-88d1-42a8-bdfc-e83839393d1e",
   "metadata": {},
   "outputs": [],
   "source": []
  }
 ],
 "metadata": {
  "kernelspec": {
   "display_name": "Python 3 (ipykernel)",
   "language": "python",
   "name": "python3"
  },
  "language_info": {
   "codemirror_mode": {
    "name": "ipython",
    "version": 3
   },
   "file_extension": ".py",
   "mimetype": "text/x-python",
   "name": "python",
   "nbconvert_exporter": "python",
   "pygments_lexer": "ipython3",
   "version": "3.12.7"
  }
 },
 "nbformat": 4,
 "nbformat_minor": 5
}
